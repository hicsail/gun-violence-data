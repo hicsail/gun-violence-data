{
 "cells": [
  {
   "cell_type": "code",
   "execution_count": 2,
   "metadata": {
    "scrolled": true
   },
   "outputs": [],
   "source": [
    "import pandas as pd \n",
    "\n",
    "def split_data(filename, split_length):\n",
    "    data = pd.read_csv(filename) \n",
    "    df_lists = []\n",
    "    steps = data.shape[0] // split_length\n",
    "    remainder = data.shape[0] % split_length\n",
    "    \n",
    "    for i in range(steps):    \n",
    "        df_lists.append(data[i * split_length: (i+1) * split_length]) \n",
    "        \n",
    "    df_lists.append(data[steps*split_length: data.shape[0]])\n",
    "    \n",
    "    return df_lists "
   ]
  },
  {
   "cell_type": "code",
   "execution_count": 4,
   "metadata": {},
   "outputs": [],
   "source": [
    "import os\n",
    "import pathlib\n",
    "\n",
    "def save_splits(directory_name, df_lists):    \n",
    "    parent_dir = pathlib.Path().absolute()\n",
    "    path = os.path.join(parent_dir, directory_name) \n",
    "\n",
    "    if not os.path.exists(directory_name):\n",
    "        os.makedirs(directory_name)\n",
    "    \n",
    "    os.chdir(path)\n",
    "    \n",
    "    for i in range(len(df_lists)):\n",
    "        df_lists[i].to_csv(directory_name + '_split_' + str(i+1) + '.csv')\n",
    "        \n",
    "    os.chdir('../')\n",
    "\n",
    "save_splits('2015', split_data('2015.csv', 1500))\n",
    "save_splits('2016', split_data('2016.csv', 1500))\n",
    "save_splits('2017', split_data('2017.csv', 1500))\n",
    "save_splits('2018', split_data('2018.csv', 1500))\n",
    "save_splits('2019', split_data('2019.csv', 1500))\n",
    "save_splits('2020', split_data('2020.csv', 1500))"
   ]
  }
 ],
 "metadata": {
  "kernelspec": {
   "display_name": "Python 3",
   "language": "python",
   "name": "python3"
  },
  "language_info": {
   "codemirror_mode": {
    "name": "ipython",
    "version": 3
   },
   "file_extension": ".py",
   "mimetype": "text/x-python",
   "name": "python",
   "nbconvert_exporter": "python",
   "pygments_lexer": "ipython3",
   "version": "3.6.7"
  }
 },
 "nbformat": 4,
 "nbformat_minor": 2
}
